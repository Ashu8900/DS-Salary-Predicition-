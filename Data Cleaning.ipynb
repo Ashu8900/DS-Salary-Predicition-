{
 "cells": [
  {
   "cell_type": "code",
   "execution_count": 1,
   "id": "bfa34928",
   "metadata": {},
   "outputs": [],
   "source": [
    "import pandas as pd "
   ]
  },
  {
   "cell_type": "code",
   "execution_count": 2,
   "id": "93878251",
   "metadata": {},
   "outputs": [],
   "source": [
    "data = pd.read_csv('glassdoor_jobs.csv')"
   ]
  },
  {
   "cell_type": "code",
   "execution_count": 3,
   "id": "d0135459",
   "metadata": {},
   "outputs": [],
   "source": [
    "data = data.drop(['Unnamed: 0'], axis =1)"
   ]
  },
  {
   "cell_type": "code",
   "execution_count": 4,
   "id": "79a053ae",
   "metadata": {},
   "outputs": [],
   "source": [
    "#salary parsing \n",
    "\n",
    "data['hourly'] = data['Salary Estimate'].apply(lambda x: 1 if 'per hour' in x.lower() else 0)\n",
    "data['employer_provided'] = data['Salary Estimate'].apply(lambda x: 1 if 'employer provided salary:' in x.lower() else 0)\n",
    "\n",
    "data= data[data['Salary Estimate'] != '-1']\n",
    "salary = data['Salary Estimate'].apply(lambda x: x.split('(')[0])\n",
    "minus_Kd = salary.apply(lambda x: x.replace('K','').replace('$',''))\n",
    "\n",
    "min_hr = minus_Kd.apply(lambda x: x.lower().replace('per hour','').replace('employer provided salary:',''))\n",
    "\n",
    "data['min_salary'] = min_hr.apply(lambda x: int(x.split('-')[0]))\n",
    "data['max_salary'] = min_hr.apply(lambda x: int(x.split('-')[1]))\n",
    "data['avg_salary'] = (data.min_salary+data.max_salary)/2"
   ]
  },
  {
   "cell_type": "code",
   "execution_count": 5,
   "id": "199b2e11",
   "metadata": {},
   "outputs": [],
   "source": [
    "#Company name text only\n",
    "data['company_txt'] = data.apply(lambda x: x['Company Name'] if x['Rating'] <0 else x['Company Name'][:-3], axis = 1)"
   ]
  },
  {
   "cell_type": "code",
   "execution_count": 6,
   "id": "488da655",
   "metadata": {},
   "outputs": [],
   "source": [
    "#state field \n",
    "data['job_state'] = data['Location'].apply(lambda x: x.split(',')[1])\n",
    "data.job_state.value_counts()\n",
    "\n",
    "data['same_state'] = data.apply(lambda x: 1 if x.Location == x.Headquarters else 0, axis = 1)"
   ]
  },
  {
   "cell_type": "code",
   "execution_count": 7,
   "id": "7de86985",
   "metadata": {},
   "outputs": [],
   "source": [
    "#age of company \n",
    "data['age'] = data.Founded.apply(lambda x: x if x <1 else 2020 - x)"
   ]
  },
  {
   "cell_type": "code",
   "execution_count": 8,
   "id": "86f97a1a",
   "metadata": {},
   "outputs": [],
   "source": [
    "#parsing of job description (python, etc.)\n",
    "\n",
    "#python\n",
    "data['python_yn'] = data['Job Description'].apply(lambda x: 1 if 'python' in x.lower() else 0)"
   ]
  },
  {
   "cell_type": "code",
   "execution_count": 9,
   "id": "7f802fbf",
   "metadata": {},
   "outputs": [
    {
     "data": {
      "text/plain": [
       "0    740\n",
       "1      2\n",
       "Name: R_yn, dtype: int64"
      ]
     },
     "execution_count": 9,
     "metadata": {},
     "output_type": "execute_result"
    }
   ],
   "source": [
    "#r studio \n",
    "data['R_yn'] = data['Job Description'].apply(lambda x: 1 if 'r studio' in x.lower() or 'r-studio' in x.lower() else 0)\n",
    "data.R_yn.value_counts()"
   ]
  },
  {
   "cell_type": "code",
   "execution_count": 10,
   "id": "fbbae5e5",
   "metadata": {},
   "outputs": [
    {
     "data": {
      "text/plain": [
       "0    575\n",
       "1    167\n",
       "Name: spark, dtype: int64"
      ]
     },
     "execution_count": 10,
     "metadata": {},
     "output_type": "execute_result"
    }
   ],
   "source": [
    "#spark \n",
    "data['spark'] = data['Job Description'].apply(lambda x: 1 if 'spark' in x.lower() else 0)\n",
    "data.spark.value_counts()"
   ]
  },
  {
   "cell_type": "code",
   "execution_count": 11,
   "id": "8f650060",
   "metadata": {},
   "outputs": [
    {
     "data": {
      "text/plain": [
       "0    566\n",
       "1    176\n",
       "Name: aws, dtype: int64"
      ]
     },
     "execution_count": 11,
     "metadata": {},
     "output_type": "execute_result"
    }
   ],
   "source": [
    "#aws \n",
    "data['aws'] = data['Job Description'].apply(lambda x: 1 if 'aws' in x.lower() else 0)\n",
    "data.aws.value_counts()"
   ]
  },
  {
   "cell_type": "code",
   "execution_count": 12,
   "id": "5a554917",
   "metadata": {},
   "outputs": [
    {
     "data": {
      "text/plain": [
       "1    388\n",
       "0    354\n",
       "Name: excel, dtype: int64"
      ]
     },
     "execution_count": 12,
     "metadata": {},
     "output_type": "execute_result"
    }
   ],
   "source": [
    "#excel\n",
    "data['excel'] = data['Job Description'].apply(lambda x: 1 if 'excel' in x.lower() else 0)\n",
    "data.excel.value_counts()"
   ]
  },
  {
   "cell_type": "code",
   "execution_count": 13,
   "id": "df538521",
   "metadata": {},
   "outputs": [
    {
     "data": {
      "text/plain": [
       "Index(['Job Title', 'Salary Estimate', 'Job Description', 'Rating',\n",
       "       'Company Name', 'Location', 'Headquarters', 'Size', 'Founded',\n",
       "       'Type of ownership', 'Industry', 'Sector', 'Revenue', 'Competitors',\n",
       "       'hourly', 'employer_provided', 'min_salary', 'max_salary', 'avg_salary',\n",
       "       'company_txt', 'job_state', 'same_state', 'age', 'python_yn', 'R_yn',\n",
       "       'spark', 'aws', 'excel'],\n",
       "      dtype='object')"
      ]
     },
     "execution_count": 13,
     "metadata": {},
     "output_type": "execute_result"
    }
   ],
   "source": [
    "data.columns"
   ]
  },
  {
   "cell_type": "code",
   "execution_count": 15,
   "id": "abdb6e66",
   "metadata": {},
   "outputs": [],
   "source": [
    "data.to_csv('salary_data_cleaned.csv',index = False)"
   ]
  }
 ],
 "metadata": {
  "kernelspec": {
   "display_name": "Python 3 (ipykernel)",
   "language": "python",
   "name": "python3"
  },
  "language_info": {
   "codemirror_mode": {
    "name": "ipython",
    "version": 3
   },
   "file_extension": ".py",
   "mimetype": "text/x-python",
   "name": "python",
   "nbconvert_exporter": "python",
   "pygments_lexer": "ipython3",
   "version": "3.9.13"
  }
 },
 "nbformat": 4,
 "nbformat_minor": 5
}
